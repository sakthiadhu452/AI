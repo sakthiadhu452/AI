{
  "nbformat": 4,
  "nbformat_minor": 0,
  "metadata": {
    "colab": {
      "provenance": []
    },
    "kernelspec": {
      "name": "python3",
      "display_name": "Python 3"
    },
    "language_info": {
      "name": "python"
    }
  },
  "cells": [
    {
      "cell_type": "code",
      "execution_count": null,
      "metadata": {
        "id": "6ULNNrfa_lud"
      },
      "outputs": [],
      "source": [
        "import numpy as np\n",
        "import matplotlib.pyplot as plt"
      ]
    },
    {
      "cell_type": "code",
      "source": [
        "x = np.array([1,2,3,4,5])\n",
        "y = np.array([2.1,3.8,6.5,9.2,11.3])"
      ],
      "metadata": {
        "id": "VlI8hpmBACJv"
      },
      "execution_count": null,
      "outputs": []
    },
    {
      "cell_type": "code",
      "source": [
        "degree = 2"
      ],
      "metadata": {
        "id": "-3SY6YyAAi1A"
      },
      "execution_count": null,
      "outputs": []
    },
    {
      "cell_type": "code",
      "source": [
        "x_ploy = np.column_stack([x**i for i in range(degree+1)])\n",
        "x_ploy"
      ],
      "metadata": {
        "colab": {
          "base_uri": "https://localhost:8080/"
        },
        "id": "QHj5JxDBAn_6",
        "outputId": "7c380f19-3f4e-40c6-d524-61d23cebb7fb"
      },
      "execution_count": null,
      "outputs": [
        {
          "output_type": "execute_result",
          "data": {
            "text/plain": [
              "array([[ 1,  1,  1],\n",
              "       [ 1,  2,  4],\n",
              "       [ 1,  3,  9],\n",
              "       [ 1,  4, 16],\n",
              "       [ 1,  5, 25]])"
            ]
          },
          "metadata": {},
          "execution_count": 13
        }
      ]
    },
    {
      "cell_type": "code",
      "source": [
        "weights = np.zeros(degree+1)\n",
        "weights"
      ],
      "metadata": {
        "colab": {
          "base_uri": "https://localhost:8080/"
        },
        "id": "iuENzKcwA9k2",
        "outputId": "a62242f4-bd6b-4280-8e79-6b4efa2e14b8"
      },
      "execution_count": null,
      "outputs": [
        {
          "output_type": "execute_result",
          "data": {
            "text/plain": [
              "array([0., 0., 0.])"
            ]
          },
          "metadata": {},
          "execution_count": 7
        }
      ]
    },
    {
      "cell_type": "code",
      "source": [
        "learning_rate = 0.001\n",
        "num_iterations = 10000"
      ],
      "metadata": {
        "id": "-F6iHC-rB_mj"
      },
      "execution_count": null,
      "outputs": []
    },
    {
      "cell_type": "code",
      "source": [
        "for _ in range(num_iterations):\n",
        "  #calculate predictions\n",
        "  predictions = np.dot(x_ploy, weights)\n",
        "  #calculate the error\n",
        "  error = predictions - y\n",
        "  #update the weight (coefficients) using gradient descent rule\n",
        "  gradient = np.dot(x_ploy.T,error) / len(x)\n",
        "  weights -=learning_rate * gradient\n",
        "  print(f'weights for iteration {_}: {weights}')"
      ],
      "metadata": {
        "id": "aBoyump6CP23"
      },
      "execution_count": null,
      "outputs": []
    },
    {
      "cell_type": "code",
      "source": [
        "def predict(x,weights):\n",
        "  x_poly = np.array([x**i for i in range(degree+1)])\n",
        "  return np.dot(x_poly,weights)"
      ],
      "metadata": {
        "id": "RwO9lT-aD__W"
      },
      "execution_count": null,
      "outputs": []
    },
    {
      "cell_type": "code",
      "source": [
        "plt.scatter(x,y,label=\"Data Points\")\n",
        "x_range = np.linspace(min(x),max(x),100)\n",
        "y_pred = [predict(x,weights) for x in x_range]\n",
        "plt.plot(x_range,y_pred,color='r',label = \"polynomial Regression\")\n",
        "plt.xlabel('X')\n",
        "plt.ylabel('Y')\n",
        "plt.legend()\n",
        "plt.show()"
      ],
      "metadata": {
        "colab": {
          "base_uri": "https://localhost:8080/",
          "height": 453
        },
        "id": "sBk1N-oSHxrW",
        "outputId": "a6c093c9-ebc5-42dc-dd21-68f4ba9864fe"
      },
      "execution_count": null,
      "outputs": [
        {
          "output_type": "display_data",
          "data": {
            "text/plain": [
              "<Figure size 640x480 with 1 Axes>"
            ],
            "image/png": "[encoded data removed]"
          },
          "metadata": {}
        }
      ]
    },
    {
      "cell_type": "code",
      "source": [],
      "metadata": {
        "id": "OsMWJMstJASe"
      },
      "execution_count": null,
      "outputs": []
    }
  ]
}